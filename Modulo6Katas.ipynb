{
 "cells": [
  {
   "cell_type": "markdown",
   "metadata": {},
   "source": [
    "# Ejercicio1: Crear y usar listas de Python\n",
    "Ejercicio: Usar listas para almacenar nombres de planetas"
   ]
  },
  {
   "cell_type": "code",
   "execution_count": null,
   "metadata": {},
   "outputs": [],
   "source": [
    "# Creamos la lista de planetas y la mostramos\n",
    "planetas = [\"Mercurio\",\"Venus\",\"Tierra\",\"Marte\",\"Jupiter\",\"Saturno\",\"Urano\",\"Neptuno\"];\n",
    "print(planetas);\n",
    "print(\"El numero de planetas es => \" + str(len(planetas)));"
   ]
  },
  {
   "cell_type": "code",
   "execution_count": null,
   "metadata": {},
   "outputs": [],
   "source": [
    "# Agregamos a pluton y mostramos el ultimo elemento\n",
    "planetas.append(\"Pluton\");\n",
    "print(planetas);\n",
    "numero_planetas = len(planetas);\n",
    "print(\"El numero de planetas es => \" + str(numero_planetas));\n",
    "print(\"El ultimo planeta es => \" + planetas[-1]);"
   ]
  },
  {
   "cell_type": "markdown",
   "metadata": {},
   "source": [
    "# Ejercicio 2: Trabajando con datos de una lista\n",
    "Usar slices para recuperar partes de una lista"
   ]
  },
  {
   "cell_type": "code",
   "execution_count": 26,
   "metadata": {},
   "outputs": [],
   "source": [
    "# Lista de planetas\n",
    "planetas = [\"Mercurio\",\"Venus\",\"Tierra\",\"Marte\",\"Jupiter\",\"Saturno\",\"Urano\",\"Neptuno\"];"
   ]
  },
  {
   "cell_type": "markdown",
   "metadata": {},
   "source": [
    "Solicita al usuario el nombre de un planeta"
   ]
  },
  {
   "cell_type": "code",
   "execution_count": 35,
   "metadata": {},
   "outputs": [
    {
     "name": "stdout",
     "output_type": "stream",
     "text": [
      "Marte\n"
     ]
    }
   ],
   "source": [
    "planeta_usuario = input(\"Introduzca el nombre del planeta, LA PRIMERA LETRA DEBE SER MAYUSCULA\");\n",
    "print(planeta_usuario);"
   ]
  },
  {
   "cell_type": "markdown",
   "metadata": {},
   "source": [
    "Encuentra el planeta en la lista"
   ]
  },
  {
   "cell_type": "code",
   "execution_count": 38,
   "metadata": {},
   "outputs": [
    {
     "name": "stdout",
     "output_type": "stream",
     "text": [
      "El planeta => Marte\n",
      "Se encuentra en la posicion  3  de la lista\n"
     ]
    }
   ],
   "source": [
    "# Busca el planeta en la lista\n",
    "planeta_indice = planetas.index(planeta_usuario);\n",
    "print(\"El planeta =>\", planeta_usuario);\n",
    "print(\"Se encuentra en la posicion \" , planeta_indice, \" de la lista\");"
   ]
  },
  {
   "cell_type": "markdown",
   "metadata": {},
   "source": [
    "Mostrar planetas más cercanos al sol que el que el usuario ingresó"
   ]
  },
  {
   "cell_type": "code",
   "execution_count": 39,
   "metadata": {},
   "outputs": [
    {
     "name": "stdout",
     "output_type": "stream",
     "text": [
      "Los planetas cercas del sol son =>  ['Mercurio', 'Venus', 'Tierra']\n"
     ]
    }
   ],
   "source": [
    "# Mostrar el conjunto de planetas mas cerca al sol, de acuerdo al planeta del usuario\n",
    "planetas_cercanos = planetas[0:planeta_indice];\n",
    "print(\"Los planetas cercas del sol son => \", planetas_cercanos);"
   ]
  },
  {
   "cell_type": "markdown",
   "metadata": {},
   "source": [
    "Mostrar los planetas mas alejados del sol que el que el usuario ingreso"
   ]
  },
  {
   "cell_type": "code",
   "execution_count": 41,
   "metadata": {},
   "outputs": [
    {
     "name": "stdout",
     "output_type": "stream",
     "text": [
      "Los planetas mas alejados del sol son =>  ['Jupiter', 'Saturno', 'Urano', 'Neptuno']\n"
     ]
    }
   ],
   "source": [
    "# Muestra los planetas mas lejanos al sol\n",
    "planetas_alejados = planetas[(planeta_indice + 1): ];\n",
    "print(\"Los planetas mas alejados del sol son => \", planetas_alejados);"
   ]
  }
 ],
 "metadata": {
  "interpreter": {
   "hash": "0c36029036185f55a6ef533cfa5f363865e8b36fc62a6095bf18430e23c84782"
  },
  "kernelspec": {
   "display_name": "Python 3.10.2 64-bit",
   "language": "python",
   "name": "python3"
  },
  "language_info": {
   "codemirror_mode": {
    "name": "ipython",
    "version": 3
   },
   "file_extension": ".py",
   "mimetype": "text/x-python",
   "name": "python",
   "nbconvert_exporter": "python",
   "pygments_lexer": "ipython3",
   "version": "3.7.9"
  },
  "orig_nbformat": 4
 },
 "nbformat": 4,
 "nbformat_minor": 2
}
