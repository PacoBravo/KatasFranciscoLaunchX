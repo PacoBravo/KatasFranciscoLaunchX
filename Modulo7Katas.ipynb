{
 "cells": [
  {
   "cell_type": "markdown",
   "metadata": {},
   "source": [
    "\n",
    "# Ejercicio 1: Creación de un bucle \"while\"\n",
    "Ejercicio 1: Uso de ciclos while en Python"
   ]
  },
  {
   "cell_type": "markdown",
   "metadata": {},
   "source": [
    "Crear dos variables: Nuevo_planeta(Variable Para Guardar Nuevo Planeta) y Planetas(Nueva Lista De Planetas)"
   ]
  },
  {
   "cell_type": "code",
   "execution_count": 2,
   "metadata": {},
   "outputs": [],
   "source": [
    "# Declarar dos variables\n",
    "nuevo_planeta = '';\n",
    "planetas = [];"
   ]
  },
  {
   "cell_type": "markdown",
   "metadata": {},
   "source": [
    "Crear el ciclo while: bucle que se usa para agregar los planetas a la lista de planetas"
   ]
  },
  {
   "cell_type": "code",
   "execution_count": 3,
   "metadata": {},
   "outputs": [
    {
     "name": "stdout",
     "output_type": "stream",
     "text": [
      "['Tierra']\n",
      "El numero de planetas es  1\n"
     ]
    }
   ],
   "source": [
    "while nuevo_planeta.lower() != 'done':\n",
    "    # condicional => saber si escribio algo\n",
    "    if nuevo_planeta != '':\n",
    "        planetas.append(nuevo_planeta);\n",
    "    nuevo_planeta = input(\"Ingresa el nombre del planeta o escriba 'done' para terminar\");\n",
    "\n",
    "# Mostrar la lista de los planetas\n",
    "print(planetas);\n",
    "print(\"El numero de planetas es \", len(planetas));"
   ]
  },
  {
   "cell_type": "markdown",
   "metadata": {},
   "source": [
    "# Ejercicio 2: Creación de un ciclo \"for\"\n",
    "Ejercicio: - Ciclo para una lista"
   ]
  },
  {
   "cell_type": "markdown",
   "metadata": {},
   "source": [
    "Usar un ciclo for para recorrer la lista de planetas y mostrarlo."
   ]
  },
  {
   "cell_type": "code",
   "execution_count": null,
   "metadata": {},
   "outputs": [],
   "source": [
    "elemento = 0;\n",
    "for planeta in planetas:\n",
    "    elemento = elemento + 1;\n",
    "    print(\"El \", elemento , \"planeta es => \", planeta);"
   ]
  }
 ],
 "metadata": {
  "interpreter": {
   "hash": "0c36029036185f55a6ef533cfa5f363865e8b36fc62a6095bf18430e23c84782"
  },
  "kernelspec": {
   "display_name": "Python 3.10.2 64-bit",
   "language": "python",
   "name": "python3"
  },
  "language_info": {
   "codemirror_mode": {
    "name": "ipython",
    "version": 3
   },
   "file_extension": ".py",
   "mimetype": "text/x-python",
   "name": "python",
   "nbconvert_exporter": "python",
   "pygments_lexer": "ipython3",
   "version": "3.7.9"
  },
  "orig_nbformat": 4
 },
 "nbformat": 4,
 "nbformat_minor": 2
}
