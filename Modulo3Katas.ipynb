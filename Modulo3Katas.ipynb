{
 "cells": [
  {
   "cell_type": "markdown",
   "metadata": {},
   "source": [
    "# Ejercicio - Escribir declaraciones IF, ELSE y ELIF\n",
    "Programa que imprimira una advertencia si un asteroide se acerca a la Tierra demasiado rápido. La velocidad del asteroide varía dependiendo de lo cerca que esté del sol, y cualquier velocidad superior a 25 kilómetros por segunfo (km/s) merece una advertencia."
   ]
  },
  {
   "cell_type": "code",
   "execution_count": 1,
   "metadata": {},
   "outputs": [
    {
     "name": "stdout",
     "output_type": "stream",
     "text": [
      "No lo notaste pero un asteroide paso por la tierra: 1.0 km/h\n"
     ]
    }
   ],
   "source": [
    "#velocidad de asteroide\n",
    "vel_ast = float(input(\"Velocidad del asteroide?\"));\n",
    "#dimension de asteroide\n",
    "dim_ast = float(input(\"Dimenciones de asteroide\"));\n",
    "\n",
    "if(vel_ast > 0):\n",
    "    if (vel_ast > 25 and dim_ast > 25):\n",
    "        print(\"Advertencia asteroide la poblacion esta en peligro\");\n",
    "    elif (vel_ast >= 20):\n",
    "        print(\"Puedes ver el rayo de luz del asteroide desde la tierra\")\n",
    "    elif (dim_ast < 25):\n",
    "        print(\"No lo notaste pero un asteroide paso por la tierra: \" + str(vel_ast) + \" km/h\");\n",
    "    else:\n",
    "        print(\"Nada que ver aqui\");\n",
    "else:\n",
    "    print(\"No hay asteroides que viaje a velocidad negativa\");\n"
   ]
  }
 ],
 "metadata": {
  "interpreter": {
   "hash": "0c36029036185f55a6ef533cfa5f363865e8b36fc62a6095bf18430e23c84782"
  },
  "kernelspec": {
   "display_name": "Python 3.10.2 64-bit",
   "language": "python",
   "name": "python3"
  },
  "language_info": {
   "codemirror_mode": {
    "name": "ipython",
    "version": 3
   },
   "file_extension": ".py",
   "mimetype": "text/x-python",
   "name": "python",
   "nbconvert_exporter": "python",
   "pygments_lexer": "ipython3",
   "version": "3.7.9"
  },
  "orig_nbformat": 4
 },
 "nbformat": 4,
 "nbformat_minor": 2
}
