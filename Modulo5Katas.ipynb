{
 "cells": [
  {
   "cell_type": "markdown",
   "metadata": {},
   "source": [
    "# Ejercicio1 - Utilizar operadores aritméticos\n",
    "Operadores aritméticos en Python"
   ]
  },
  {
   "cell_type": "markdown",
   "metadata": {},
   "source": [
    "Crear 2 variables para guardar las distancias de dos plenetas (La tierra y Jupiter);"
   ]
  },
  {
   "cell_type": "code",
   "execution_count": 1,
   "metadata": {},
   "outputs": [],
   "source": [
    "tierra = 149597870;\n",
    "jupiter = 778547200;"
   ]
  },
  {
   "cell_type": "markdown",
   "metadata": {},
   "source": [
    "Se debe obtener la distancia que hay entre los dos planetas.(Aplicar una resta: planeta2 - planeta1)"
   ]
  },
  {
   "cell_type": "code",
   "execution_count": null,
   "metadata": {},
   "outputs": [],
   "source": [
    "# Obtener la distancia de los planetas\n",
    "distancia_km = jupiter - tierra; #Distancia en kilomentros\n",
    "distancia_milla = distancia_km * 0.621;\n",
    "\n",
    "print(distancia_km);\n",
    "print(round(distancia_milla));"
   ]
  },
  {
   "cell_type": "markdown",
   "metadata": {},
   "source": [
    "# Ejercicio 2: convierte cadenas en números y usa valores absolutos\n",
    "Crear una aplicación para trabajar con números y entrada de usuario"
   ]
  },
  {
   "cell_type": "markdown",
   "metadata": {},
   "source": [
    "Lee los valores"
   ]
  },
  {
   "cell_type": "code",
   "execution_count": null,
   "metadata": {},
   "outputs": [],
   "source": [
    "# Capturamos las distancia de los dos planetas\n",
    "primer_planeta = input('Introduzca la distancia del sol para el primer planeta en KM')\n",
    "segundo_planeta = input('Introduzca la distancia desde el sol para el segundo planeta en KM')\n",
    "\n",
    "print(\"Distancia en KM del planeta 1: \" + primer_planeta + \" KM\");\n",
    "print(\"Distancia en KM del planeta 2: \" + segundo_planeta + \" KM\");"
   ]
  },
  {
   "cell_type": "markdown",
   "metadata": {},
   "source": [
    "Convertir a numero"
   ]
  },
  {
   "cell_type": "code",
   "execution_count": null,
   "metadata": {},
   "outputs": [],
   "source": [
    "primer_planeta = int(primer_planeta);\n",
    "segundo_planeta = int(segundo_planeta);\n",
    "\n",
    "print(type(primer_planeta));\n",
    "print(type(segundo_planeta));"
   ]
  },
  {
   "cell_type": "markdown",
   "metadata": {},
   "source": [
    "Realizar el cálculo y convertir a valor absoluto"
   ]
  },
  {
   "cell_type": "code",
   "execution_count": 11,
   "metadata": {},
   "outputs": [
    {
     "name": "stdout",
     "output_type": "stream",
     "text": [
      "10\n",
      "6.21\n"
     ]
    }
   ],
   "source": [
    "# Se realiza el calculo de la distancia\n",
    "distancia_km = segundo_planeta - primer_planeta;\n",
    "print(distancia_km);\n",
    "\n",
    "# Convertir distancia de KM a millas\n",
    "distancia_milla = distancia_km * 0.621;\n",
    "print(distancia_milla);"
   ]
  }
 ],
 "metadata": {
  "interpreter": {
   "hash": "0c36029036185f55a6ef533cfa5f363865e8b36fc62a6095bf18430e23c84782"
  },
  "kernelspec": {
   "display_name": "Python 3.10.2 64-bit",
   "language": "python",
   "name": "python3"
  },
  "language_info": {
   "codemirror_mode": {
    "name": "ipython",
    "version": 3
   },
   "file_extension": ".py",
   "mimetype": "text/x-python",
   "name": "python",
   "nbconvert_exporter": "python",
   "pygments_lexer": "ipython3",
   "version": "3.7.9"
  },
  "orig_nbformat": 4
 },
 "nbformat": 4,
 "nbformat_minor": 2
}
